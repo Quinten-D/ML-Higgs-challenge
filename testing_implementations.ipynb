{
 "cells": [
  {
   "cell_type": "markdown",
   "metadata": {
    "pycharm": {
     "name": "#%% md\n"
    }
   },
   "source": [
    "## Testing ML functions "
   ]
  },
  {
   "cell_type": "code",
   "execution_count": 19,
   "metadata": {
    "pycharm": {
     "name": "#%%\n"
    }
   },
   "outputs": [
    {
     "name": "stdout",
     "output_type": "stream",
     "text": [
      "The autoreload extension is already loaded. To reload it, use:\n",
      "  %reload_ext autoreload\n"
     ]
    }
   ],
   "source": [
    "# import functions and helpers\n",
    "from helpers import *\n",
    "from implementations import *\n",
    "\n",
    "#import packages\n",
    "import numpy as np\n",
    "import matplotlib.pyplot as plt\n",
    "import datetime\n",
    "\n",
    "%matplotlib inline\n",
    "%load_ext autoreload\n",
    "%autoreload 2"
   ]
  },
  {
   "cell_type": "code",
   "execution_count": 9,
   "metadata": {
    "pycharm": {
     "name": "#%%\n"
    }
   },
   "outputs": [],
   "source": [
    "# load data\n",
    "height, weight, gender = load_old_data(sub_sample=False, add_outlier=False)\n",
    "x, mean_x, std_x = standardize(height)\n",
    "y, tx = build_old_model_data(x, weight)"
   ]
  },
  {
   "cell_type": "code",
   "execution_count": 43,
   "outputs": [],
   "source": [
    "# load project data\n",
    "features, output = load_training_data()\n",
    "x, mean_x, std_x = standardize(height)\n",
    "y, tx = build_model_data(x, weight)"
   ],
   "metadata": {
    "collapsed": false,
    "pycharm": {
     "name": "#%%\n"
    }
   }
  },
  {
   "cell_type": "code",
   "execution_count": 44,
   "metadata": {
    "pycharm": {
     "name": "#%%\n"
    }
   },
   "outputs": [],
   "source": [
    "# set up testing parameters\n",
    "max_iters = 100\n",
    "gamma = 0.8\n",
    "batch_size = 128\n",
    "lambda_ = 0.5\n",
    "w_initial = np.array([0, 0])"
   ]
  },
  {
   "cell_type": "markdown",
   "metadata": {
    "pycharm": {
     "name": "#%% md\n"
    }
   },
   "source": [
    "## least_squares_GD"
   ]
  },
  {
   "cell_type": "code",
   "execution_count": 45,
   "metadata": {
    "pycharm": {
     "name": "#%%\n"
    }
   },
   "outputs": [
    {
     "name": "stdout",
     "output_type": "stream",
     "text": [
      "GD: execution time=0.0239880 seconds\n",
      "optimal weights:  [73.293922   13.47971243]\n",
      "mse:  15.385887868829402\n"
     ]
    }
   ],
   "source": [
    "start_time = datetime.datetime.now()\n",
    "w, mse = least_squares_GD(y, tx, w_initial, max_iters, gamma)\n",
    "end_time = datetime.datetime.now()\n",
    "\n",
    "# Print result\n",
    "exection_time = (end_time - start_time).total_seconds()\n",
    "print(\"GD: execution time={t:.7f} seconds\".format(t=exection_time))\n",
    "print(\"optimal weights: \", w)\n",
    "print(\"mse: \", mse)"
   ]
  },
  {
   "cell_type": "markdown",
   "metadata": {
    "pycharm": {
     "name": "#%% md\n"
    }
   },
   "source": [
    "## least_squares_SGD"
   ]
  },
  {
   "cell_type": "code",
   "execution_count": 24,
   "metadata": {
    "pycharm": {
     "name": "#%%\n"
    }
   },
   "outputs": [
    {
     "name": "stdout",
     "output_type": "stream",
     "text": [
      "SGD: execution time=0.1374540 seconds\n",
      "optimal weights:  [73.80377564 13.18886757]\n",
      "mse:  15.558158600491172\n"
     ]
    }
   ],
   "source": [
    "start_time = datetime.datetime.now()\n",
    "w, mse = least_squares_SGD(y, tx, w_initial, max_iters, gamma, batch_size)\n",
    "end_time = datetime.datetime.now()\n",
    "\n",
    "# Print result\n",
    "exection_time = (end_time - start_time).total_seconds()\n",
    "print(\"SGD: execution time={t:.7f} seconds\".format(t=exection_time))\n",
    "print(\"optimal weights: \", w)\n",
    "print(\"mse: \", mse)"
   ]
  },
  {
   "cell_type": "markdown",
   "metadata": {
    "pycharm": {
     "name": "#%% md\n"
    }
   },
   "source": [
    "## least_squares_closed_form"
   ]
  },
  {
   "cell_type": "code",
   "execution_count": 25,
   "metadata": {
    "pycharm": {
     "name": "#%%\n"
    }
   },
   "outputs": [
    {
     "name": "stdout",
     "output_type": "stream",
     "text": [
      "LS: execution time=0.0080270 seconds\n",
      "optimal weights:  [73.293922   13.47971243]\n",
      "mse:  15.385887868829402\n"
     ]
    }
   ],
   "source": [
    "start_time = datetime.datetime.now()\n",
    "w, mse = least_squares(y, tx)\n",
    "end_time = datetime.datetime.now()\n",
    "\n",
    "# Print result\n",
    "exection_time = (end_time - start_time).total_seconds()\n",
    "print(\"LS: execution time={t:.7f} seconds\".format(t=exection_time))\n",
    "print(\"optimal weights: \", w)\n",
    "print(\"mse: \", mse)"
   ]
  },
  {
   "cell_type": "markdown",
   "metadata": {
    "pycharm": {
     "name": "#%% md\n"
    }
   },
   "source": [
    "## ridge_regression"
   ]
  },
  {
   "cell_type": "code",
   "execution_count": 38,
   "metadata": {
    "pycharm": {
     "name": "#%%\n"
    }
   },
   "outputs": [
    {
     "name": "stdout",
     "output_type": "stream",
     "text": [
      "mse for  0.0 :  15.385887868829402\n",
      "mse for  0.00010101010101010101 :  15.386001152339444\n",
      "mse for  0.00020202020202020202 :  15.38634081987754\n",
      "mse for  0.00030303030303030303 :  15.386906597204979\n",
      "mse for  0.00040404040404040404 :  15.387698210415198\n",
      "mse for  0.000505050505050505 :  15.388715385933276\n",
      "mse for  0.0006060606060606061 :  15.38995785051554\n",
      "mse for  0.0007070707070707071 :  15.391425331249083\n",
      "mse for  0.0008080808080808081 :  15.393117555551356\n",
      "mse for  0.0009090909090909091 :  15.395034251169681\n",
      "mse for  0.00101010101010101 :  15.397175146180828\n",
      "mse for  0.0011111111111111111 :  15.399539968990615\n",
      "mse for  0.0012121212121212121 :  15.40212844833336\n",
      "mse for  0.0013131313131313131 :  15.40494031327155\n",
      "mse for  0.0014141414141414141 :  15.40797529319533\n",
      "mse for  0.0015151515151515152 :  15.411233117822114\n",
      "mse for  0.0016161616161616162 :  15.414713517196079\n",
      "mse for  0.0017171717171717172 :  15.418416221687819\n",
      "mse for  0.0018181818181818182 :  15.422340961993786\n",
      "mse for  0.0019191919191919192 :  15.42648746913599\n",
      "mse for  0.00202020202020202 :  15.430855474461433\n",
      "mse for  0.002121212121212121 :  15.43544470964176\n",
      "mse for  0.0022222222222222222 :  15.44025490667282\n",
      "mse for  0.0023232323232323234 :  15.445285797874156\n",
      "mse for  0.0024242424242424242 :  15.450537115888636\n",
      "mse for  0.002525252525252525 :  15.45600859368207\n",
      "mse for  0.0026262626262626263 :  15.461699964542598\n",
      "mse for  0.0027272727272727275 :  15.467610962080453\n",
      "mse for  0.0028282828282828283 :  15.473741320227449\n",
      "mse for  0.002929292929292929 :  15.480090773236505\n",
      "mse for  0.0030303030303030303 :  15.486659055681287\n",
      "mse for  0.0031313131313131315 :  15.493445902455742\n",
      "mse for  0.0032323232323232323 :  15.500451048773694\n",
      "mse for  0.003333333333333333 :  15.5076742301684\n",
      "mse for  0.0034343434343434343 :  15.51511518249209\n",
      "mse for  0.0035353535353535356 :  15.5227736419156\n",
      "mse for  0.0036363636363636364 :  15.530649344927903\n",
      "mse for  0.003737373737373737 :  15.538742028335697\n",
      "mse for  0.0038383838383838384 :  15.547051429263059\n",
      "mse for  0.00393939393939394 :  15.555577285150763\n",
      "mse for  0.00404040404040404 :  15.564319333756236\n",
      "mse for  0.004141414141414141 :  15.573277313152788\n",
      "mse for  0.004242424242424242 :  15.582450961729423\n",
      "mse for  0.004343434343434344 :  15.591840018190256\n",
      "mse for  0.0044444444444444444 :  15.601444221554296\n",
      "mse for  0.004545454545454545 :  15.611263311154715\n",
      "mse for  0.004646464646464647 :  15.621297026638771\n",
      "mse for  0.004747474747474748 :  15.631545107967067\n",
      "mse for  0.0048484848484848485 :  15.642007295413462\n",
      "mse for  0.004949494949494949 :  15.652683329564336\n",
      "mse for  0.00505050505050505 :  15.663572951318447\n",
      "mse for  0.005151515151515152 :  15.674675901886257\n",
      "mse for  0.0052525252525252525 :  15.685991922789707\n",
      "mse for  0.005353535353535353 :  15.697520755861774\n",
      "mse for  0.005454545454545455 :  15.70926214324601\n",
      "mse for  0.005555555555555556 :  15.72121582739605\n",
      "mse for  0.0056565656565656566 :  15.733381551075347\n",
      "mse for  0.005757575757575757 :  15.745759057356764\n",
      "mse for  0.005858585858585858 :  15.758348089621919\n",
      "mse for  0.00595959595959596 :  15.771148391561187\n",
      "mse for  0.006060606060606061 :  15.7841597071729\n",
      "mse for  0.006161616161616161 :  15.797381780763043\n",
      "mse for  0.006262626262626263 :  15.810814356944999\n",
      "mse for  0.006363636363636364 :  15.824457180639042\n",
      "mse for  0.006464646464646465 :  15.838309997071772\n",
      "mse for  0.0065656565656565654 :  15.852372551776035\n",
      "mse for  0.006666666666666666 :  15.86664459059017\n",
      "mse for  0.006767676767676768 :  15.88112585965792\n",
      "mse for  0.006868686868686869 :  15.895816105427663\n",
      "mse for  0.0069696969696969695 :  15.910715074652414\n",
      "mse for  0.007070707070707071 :  15.925822514389113\n",
      "mse for  0.007171717171717172 :  15.94113817199829\n",
      "mse for  0.007272727272727273 :  15.956661795143845\n",
      "mse for  0.0073737373737373735 :  15.972393131792424\n",
      "mse for  0.007474747474747474 :  15.988331930212881\n",
      "mse for  0.007575757575757576 :  16.00447793897651\n",
      "mse for  0.007676767676767677 :  16.02083090695578\n",
      "mse for  0.0077777777777777776 :  16.03739058332473\n",
      "mse for  0.00787878787878788 :  16.05415671755788\n",
      "mse for  0.00797979797979798 :  16.071129059430415\n",
      "mse for  0.00808080808080808 :  16.08830735901743\n",
      "mse for  0.008181818181818182 :  16.105691366693662\n",
      "mse for  0.008282828282828282 :  16.123280833133\n",
      "mse for  0.008383838383838384 :  16.141075509308237\n",
      "mse for  0.008484848484848484 :  16.159075146490512\n",
      "mse for  0.008585858585858586 :  16.177279496249124\n",
      "mse for  0.008686868686868687 :  16.19568831045072\n",
      "mse for  0.008787878787878787 :  16.214301341259468\n",
      "mse for  0.008888888888888889 :  16.233118341136272\n",
      "mse for  0.00898989898989899 :  16.252139062838488\n",
      "mse for  0.00909090909090909 :  16.271363259419413\n",
      "mse for  0.009191919191919192 :  16.290790684228217\n",
      "mse for  0.009292929292929294 :  16.310421090909205\n",
      "mse for  0.009393939393939394 :  16.3302542334015\n",
      "mse for  0.009494949494949495 :  16.350289865938862\n",
      "mse for  0.009595959595959595 :  16.370527743049056\n",
      "mse for  0.009696969696969697 :  16.390967619553578\n",
      "mse for  0.009797979797979799 :  16.411609250567228\n",
      "mse for  0.009898989898989899 :  16.432452391497666\n",
      "mse for  0.01 :  16.453496798045247\n",
      "Ridge regression: execution time=0.0730360 seconds\n",
      "optimal weights:  [73.293922   13.47971243]\n",
      "mse:  15.385887868829402\n"
     ]
    }
   ],
   "source": [
    "start_time = datetime.datetime.now()\n",
    "lambdas = np.linspace(0, 0.01, 100)\n",
    "wBest = []\n",
    "mseBest = 10000000\n",
    "for l in lambdas:\n",
    "    w, mse = ridge_regression(y, tx, l)\n",
    "    if mse < mseBest:\n",
    "        mseBest = mse\n",
    "        wBest = w\n",
    "    print(\"mse for \", l, \": \", mse)\n",
    "\n",
    "end_time = datetime.datetime.now()\n",
    "\n",
    "# Print result\n",
    "exection_time = (end_time - start_time).total_seconds()\n",
    "print(\"Ridge regression: execution time={t:.7f} seconds\".format(t=exection_time))\n",
    "print(\"optimal weights: \", wBest)"
   ]
  },
  {
   "cell_type": "code",
   "execution_count": null,
   "metadata": {
    "pycharm": {
     "name": "#%%\n"
    }
   },
   "outputs": [],
   "source": []
  }
 ],
 "metadata": {
  "kernelspec": {
   "display_name": "Python 3",
   "language": "python",
   "name": "python3"
  },
  "language_info": {
   "codemirror_mode": {
    "name": "ipython",
    "version": 3
   },
   "file_extension": ".py",
   "mimetype": "text/x-python",
   "name": "python",
   "nbconvert_exporter": "python",
   "pygments_lexer": "ipython3",
   "version": "3.8.5"
  }
 },
 "nbformat": 4,
 "nbformat_minor": 4
}