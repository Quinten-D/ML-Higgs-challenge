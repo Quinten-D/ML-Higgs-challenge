{
 "cells": [
  {
   "cell_type": "markdown",
   "metadata": {
    "pycharm": {
     "name": "#%% md\n"
    }
   },
   "source": [
    "## Testing ML functions "
   ]
  },
  {
   "cell_type": "code",
   "execution_count": 19,
   "metadata": {
    "pycharm": {
     "name": "#%%\n"
    }
   },
   "outputs": [
    {
     "name": "stdout",
     "output_type": "stream",
     "text": [
      "The autoreload extension is already loaded. To reload it, use:\n",
      "  %reload_ext autoreload\n"
     ]
    }
   ],
   "source": [
    "# import functions and helpers\n",
    "from helpers import *\n",
    "from implementations import *\n",
    "\n",
    "#import packages\n",
    "import numpy as np\n",
    "import matplotlib.pyplot as plt\n",
    "import datetime\n",
    "\n",
    "%matplotlib inline\n",
    "%load_ext autoreload\n",
    "%autoreload 2"
   ]
  },
  {
   "cell_type": "code",
   "execution_count": 9,
   "metadata": {
    "pycharm": {
     "name": "#%%\n"
    }
   },
   "outputs": [],
   "source": [
    "# load data\n",
    "height, weight, gender = load_old_data(sub_sample=False, add_outlier=False)\n",
    "x, mean_x, std_x = standardize(height)\n",
    "y, tx = build_old_model_data(x, weight)"
   ]
  },
  {
   "cell_type": "code",
   "execution_count": 61,
   "outputs": [
    {
     "name": "stdout",
     "output_type": "stream",
     "text": [
      "(250000, 30)\n"
     ]
    }
   ],
   "source": [
    "# load project data\n",
    "features, output, ids = load_training_data()\n",
    "y = output\n",
    "tx = build_model_data(features)"
   ],
   "metadata": {
    "collapsed": false,
    "pycharm": {
     "name": "#%%\n"
    }
   }
  },
  {
   "cell_type": "code",
   "execution_count": 62,
   "outputs": [
    {
     "name": "stdout",
     "output_type": "stream",
     "text": [
      "[[ 1.00000000e+00  3.14910656e-01  6.83319669e-02 ...  1.14381874e+00\n",
      "  -2.52714288e+00  4.12510497e-01]\n",
      " [ 1.00000000e+00  7.40827026e-01  5.52504823e-01 ... -1.74353029e-17\n",
      "  -1.68378328e-17 -2.73819964e-01]\n",
      " [ 1.00000000e+00 -5.38802302e-16  3.19515553e+00 ... -1.74353029e-17\n",
      "  -1.68378328e-17 -2.93969845e-01]\n",
      " ...\n",
      " [ 1.00000000e+00 -3.10930673e-01  3.19316447e-01 ... -1.74353029e-17\n",
      "  -1.68378328e-17 -3.17017229e-01]\n",
      " [ 1.00000000e+00 -5.10097335e-01 -8.45323970e-01 ... -1.74353029e-17\n",
      "  -1.68378328e-17 -7.45439413e-01]\n",
      " [ 1.00000000e+00 -5.38802302e-16  6.65336083e-01 ... -1.74353029e-17\n",
      "  -1.68378328e-17 -7.45439413e-01]]\n"
     ]
    }
   ],
   "source": [
    "print(tx)"
   ],
   "metadata": {
    "collapsed": false,
    "pycharm": {
     "name": "#%%\n"
    }
   }
  },
  {
   "cell_type": "code",
   "execution_count": 72,
   "metadata": {
    "pycharm": {
     "name": "#%%\n"
    }
   },
   "outputs": [],
   "source": [
    "# set up testing parameters\n",
    "max_iters = 100\n",
    "gamma = 0.05\n",
    "batch_size = 1\n",
    "lambda_ = 0.5\n",
    "w_initial = np.array([0] * 31)"
   ]
  },
  {
   "cell_type": "markdown",
   "metadata": {
    "pycharm": {
     "name": "#%% md\n"
    }
   },
   "source": [
    "## least_squares_GD"
   ]
  },
  {
   "cell_type": "code",
   "execution_count": 75,
   "metadata": {
    "pycharm": {
     "name": "#%%\n"
    }
   },
   "outputs": [
    {
     "name": "stdout",
     "output_type": "stream",
     "text": [
      "[1. 1. 1. ... 0. 0. 1.]\n",
      "[ 6.57332000e-01 -4.81743327e-03  1.27359910e-01  1.31751455e-01\n",
      "  5.51227442e-04 -1.09210580e-02 -4.50270170e-02 -2.41745287e-03\n",
      " -1.41004258e-01  1.40750654e-02  1.64656896e+02  9.40706085e-02\n",
      " -5.90325087e-02 -3.83086313e-02 -3.19864841e+01  3.89729485e-04\n",
      "  4.15328366e-04 -3.15443468e+01  4.30584500e-04 -1.25895687e-03\n",
      " -5.18296552e-02 -4.66892903e-04  2.35009519e-02 -2.08787977e-02\n",
      "  2.37891726e-02 -3.25363119e-04 -9.43779134e-05  1.83000920e-02\n",
      " -7.79186730e-04  8.71593634e-04 -1.39486733e+02]\n",
      "0.046031568506700905\n",
      "GD: execution time=0.9825630 seconds\n",
      "optimal weights:  [-1.62170796e+43  5.91313363e+57 -2.44751567e+58 -4.15385265e+57\n",
      "  1.18289937e+59 -6.32427273e+57  2.04892722e+58 -8.45879916e+56\n",
      " -6.92300441e+58  5.78470433e+58  1.25716360e+59  9.93340444e+57\n",
      "  6.57500506e+58 -1.68803705e+57  5.76854808e+58  4.63892808e+56\n",
      "  8.39337646e+56  4.98679852e+58  1.39197697e+57 -4.82116758e+56\n",
      "  8.20468735e+58  1.13033906e+57  1.19468245e+59  9.52284340e+58\n",
      "  9.53417046e+58  1.62621581e+56  2.91591256e+56  5.54048358e+58\n",
      "  1.69997359e+55 -9.61259540e+56  1.23990049e+59]\n",
      "mse:  3.391575568839023e+119\n"
     ]
    }
   ],
   "source": [
    "start_time = datetime.datetime.now()\n",
    "w, mse = least_squares_GD(y, tx, w_initial, max_iters, gamma)\n",
    "end_time = datetime.datetime.now()\n",
    "\n",
    "# Print result\n",
    "exection_time = (end_time - start_time).total_seconds()\n",
    "print(\"GD: execution time={t:.7f} seconds\".format(t=exection_time))\n",
    "print(\"optimal weights: \", w)\n",
    "print(\"mse: \", mse)"
   ]
  },
  {
   "cell_type": "markdown",
   "metadata": {
    "pycharm": {
     "name": "#%% md\n"
    }
   },
   "source": [
    "Z## least_squares_SGD"
   ]
  },
  {
   "cell_type": "code",
   "execution_count": 74,
   "metadata": {
    "pycharm": {
     "name": "#%%\n"
    }
   },
   "outputs": [
    {
     "name": "stdout",
     "output_type": "stream",
     "text": [
      "SGD: execution time=20.1630010 seconds\n",
      "optimal weights:  [-2.07081531e+49 -2.47551068e+47 -1.74067370e+49  1.26013347e+49\n",
      "  5.57572942e+48  5.67443399e+48  4.16322167e+48 -2.98227397e+48\n",
      "  1.58063684e+49  2.97723465e+48  6.18618550e+48 -5.02554785e+47\n",
      "  1.47963557e+49  7.03017629e+48 -2.62016428e+47 -3.39847923e+48\n",
      " -7.85775014e+48  7.56398832e+48 -1.83621688e+48  1.34343378e+49\n",
      " -8.46775144e+48 -6.22451883e+48  7.43797804e+48  8.45427752e+48\n",
      " -1.09648127e+48 -1.58639572e+49 -3.61271951e+47  1.36081736e+48\n",
      " -1.95916598e+48  4.29318512e+48  5.65984027e+48]\n",
      "mse:  1.9232525171590263e+99\n"
     ]
    }
   ],
   "source": [
    "start_time = datetime.datetime.now()\n",
    "w, mse = least_squares_SGD(y, tx, w_initial, max_iters, gamma, batch_size)\n",
    "end_time = datetime.datetime.now()\n",
    "\n",
    "# Print result\n",
    "exection_time = (end_time - start_time).total_seconds()\n",
    "print(\"SGD: execution time={t:.7f} seconds\".format(t=exection_time))\n",
    "print(\"optimal weights: \", w)\n",
    "print(\"mse: \", mse)"
   ]
  },
  {
   "cell_type": "markdown",
   "metadata": {
    "pycharm": {
     "name": "#%% md\n"
    }
   },
   "source": [
    "## least_squares_closed_form"
   ]
  },
  {
   "cell_type": "code",
   "execution_count": 70,
   "metadata": {
    "pycharm": {
     "name": "#%%\n"
    }
   },
   "outputs": [
    {
     "name": "stdout",
     "output_type": "stream",
     "text": [
      "LS: execution time=0.1473590 seconds\n",
      "optimal weights:  [ 6.57332000e-01 -4.81743327e-03  1.27359910e-01  1.31751455e-01\n",
      "  5.51227442e-04 -1.09210580e-02 -4.50270170e-02 -2.41745287e-03\n",
      " -1.41004258e-01  1.40750654e-02  1.64656896e+02  9.40706085e-02\n",
      " -5.90325087e-02 -3.83086313e-02 -3.19864841e+01  3.89729485e-04\n",
      "  4.15328366e-04 -3.15443468e+01  4.30584500e-04 -1.25895687e-03\n",
      " -5.18296552e-02 -4.66892903e-04  2.35009519e-02 -2.08787977e-02\n",
      "  2.37891726e-02 -3.25363119e-04 -9.43779134e-05  1.83000920e-02\n",
      " -7.79186730e-04  8.71593634e-04 -1.39486733e+02]\n",
      "mse:  0.08510236304075187\n"
     ]
    }
   ],
   "source": [
    "start_time = datetime.datetime.now()\n",
    "w, mse = least_squares(y, tx)\n",
    "end_time = datetime.datetime.now()\n",
    "\n",
    "# Print result\n",
    "exection_time = (end_time - start_time).total_seconds()\n",
    "print(\"LS: execution time={t:.7f} seconds\".format(t=exection_time))\n",
    "print(\"optimal weights: \", w)\n",
    "print(\"mse: \", mse)"
   ]
  },
  {
   "cell_type": "markdown",
   "metadata": {
    "pycharm": {
     "name": "#%% md\n"
    }
   },
   "source": [
    "## ridge_regression"
   ]
  },
  {
   "cell_type": "code",
   "execution_count": 71,
   "metadata": {
    "pycharm": {
     "name": "#%%\n"
    }
   },
   "outputs": [
    {
     "name": "stdout",
     "output_type": "stream",
     "text": [
      "mse for  0.0 :  0.08510236304075187\n",
      "mse for  0.00010101010101010101 :  0.08510268940976572\n",
      "mse for  0.00020202020202020202 :  0.08510275845788193\n",
      "mse for  0.00030303030303030303 :  0.08510287308928195\n",
      "mse for  0.00040404040404040404 :  0.08510303294462443\n",
      "mse for  0.000505050505050505 :  0.08510323767107736\n",
      "mse for  0.0006060606060606061 :  0.0851034869220186\n",
      "mse for  0.0007070707070707071 :  0.08510378035675728\n",
      "mse for  0.0008080808080808081 :  0.08510411764027734\n",
      "mse for  0.0009090909090909091 :  0.08510449844300108\n",
      "mse for  0.00101010101010101 :  0.08510492244057165\n",
      "mse for  0.0011111111111111111 :  0.08510538931365186\n",
      "mse for  0.0012121212121212121 :  0.08510589874773807\n",
      "mse for  0.0013131313131313131 :  0.08510645043298766\n",
      "mse for  0.0014141414141414141 :  0.08510704406405863\n",
      "mse for  0.0015151515151515152 :  0.08510767933996057\n",
      "mse for  0.0016161616161616162 :  0.08510835596391536\n",
      "mse for  0.0017171717171717172 :  0.08510907364322741\n",
      "mse for  0.0018181818181818182 :  0.08510983208916172\n",
      "mse for  0.0019191919191919192 :  0.0851106310168301\n",
      "mse for  0.00202020202020202 :  0.08511147014508393\n",
      "mse for  0.002121212121212121 :  0.08511234919641332\n",
      "mse for  0.0022222222222222222 :  0.08511326789685211\n",
      "mse for  0.0023232323232323234 :  0.08511422597588822\n",
      "mse for  0.0024242424242424242 :  0.0851152231663787\n",
      "mse for  0.002525252525252525 :  0.08511625920446948\n",
      "mse for  0.0026262626262626263 :  0.085117333829519\n",
      "mse for  0.0027272727272727275 :  0.08511844678402578\n",
      "mse for  0.0028282828282828283 :  0.08511959781355963\n",
      "mse for  0.002929292929292929 :  0.0851207866666955\n",
      "mse for  0.0030303030303030303 :  0.08512201309495124\n",
      "mse for  0.0031313131313131315 :  0.08512327685272734\n",
      "mse for  0.0032323232323232323 :  0.08512457769724951\n",
      "mse for  0.003333333333333333 :  0.085125915388514\n",
      "mse for  0.0034343434343434343 :  0.08512728968923443\n",
      "mse for  0.0035353535353535356 :  0.08512870036479131\n",
      "mse for  0.0036363636363636364 :  0.08513014718318324\n",
      "mse for  0.003737373737373737 :  0.08513162991497998\n",
      "mse for  0.0038383838383838384 :  0.08513314833327716\n",
      "mse for  0.00393939393939394 :  0.08513470221365241\n",
      "mse for  0.00404040404040404 :  0.08513629133412347\n",
      "mse for  0.004141414141414141 :  0.08513791547510724\n",
      "mse for  0.004242424242424242 :  0.08513957441938032\n",
      "mse for  0.004343434343434344 :  0.08514126795204054\n",
      "mse for  0.0044444444444444444 :  0.08514299586047015\n",
      "mse for  0.004545454545454545 :  0.0851447579342997\n",
      "mse for  0.004646464646464647 :  0.0851465539653731\n",
      "mse for  0.004747474747474748 :  0.0851483837477136\n",
      "mse for  0.0048484848484848485 :  0.08515024707749093\n",
      "mse for  0.004949494949494949 :  0.08515214375298874\n",
      "mse for  0.00505050505050505 :  0.08515407357457379\n",
      "mse for  0.005151515151515152 :  0.08515603634466513\n",
      "mse for  0.0052525252525252525 :  0.08515803186770449\n",
      "mse for  0.005353535353535353 :  0.08516005995012683\n",
      "mse for  0.005454545454545455 :  0.0851621204003329\n",
      "mse for  0.005555555555555556 :  0.08516421302866053\n",
      "mse for  0.0056565656565656566 :  0.0851663376473583\n",
      "mse for  0.005757575757575757 :  0.08516849407055889\n",
      "mse for  0.005858585858585858 :  0.08517068211425317\n",
      "mse for  0.00595959595959596 :  0.08517290159626485\n",
      "mse for  0.006060606060606061 :  0.08517515233622591\n",
      "mse for  0.006161616161616161 :  0.08517743415555222\n",
      "mse for  0.006262626262626263 :  0.0851797468774199\n",
      "mse for  0.006363636363636364 :  0.08518209032674177\n",
      "mse for  0.006464646464646465 :  0.08518446433014483\n",
      "mse for  0.0065656565656565654 :  0.08518686871594779\n",
      "mse for  0.006666666666666666 :  0.0851893033141391\n",
      "mse for  0.006767676767676768 :  0.08519176795635519\n",
      "mse for  0.006868686868686869 :  0.08519426247585989\n",
      "mse for  0.0069696969696969695 :  0.08519678670752306\n",
      "mse for  0.007070707070707071 :  0.08519934048780073\n",
      "mse for  0.007171717171717172 :  0.08520192365471464\n",
      "mse for  0.007272727272727273 :  0.08520453604783282\n",
      "mse for  0.0073737373737373735 :  0.08520717750825038\n",
      "mse for  0.007474747474747474 :  0.08520984787857035\n",
      "mse for  0.007575757575757576 :  0.08521254700288476\n",
      "mse for  0.007676767676767677 :  0.08521527472675688\n",
      "mse for  0.0077777777777777776 :  0.0852180308972028\n",
      "mse for  0.00787878787878788 :  0.08522081536267363\n",
      "mse for  0.00797979797979798 :  0.08522362797303815\n",
      "mse for  0.00808080808080808 :  0.08522646857956553\n",
      "mse for  0.008181818181818182 :  0.08522933703490872\n",
      "mse for  0.008282828282828282 :  0.08523223319308743\n",
      "mse for  0.008383838383838384 :  0.08523515690947187\n",
      "mse for  0.008484848484848484 :  0.08523810804076665\n",
      "mse for  0.008585858585858586 :  0.08524108644499492\n",
      "mse for  0.008686868686868687 :  0.08524409198148283\n",
      "mse for  0.008787878787878787 :  0.08524712451084379\n",
      "mse for  0.008888888888888889 :  0.0852501838949636\n",
      "mse for  0.00898989898989899 :  0.08525326999698549\n",
      "mse for  0.00909090909090909 :  0.08525638268129528\n",
      "mse for  0.009191919191919192 :  0.08525952181350675\n",
      "mse for  0.009292929292929294 :  0.08526268726044778\n",
      "mse for  0.009393939393939394 :  0.08526587889014602\n",
      "mse for  0.009494949494949495 :  0.08526909657181479\n",
      "mse for  0.009595959595959595 :  0.08527234017583965\n",
      "mse for  0.009696969696969697 :  0.08527560957376489\n",
      "mse for  0.009797979797979799 :  0.08527890463828032\n",
      "mse for  0.009898989898989899 :  0.08528222524320794\n",
      "mse for  0.01 :  0.08528557126348918\n",
      "Ridge regression: execution time=8.5836370 seconds\n",
      "optimal weights:  [ 6.57332000e-01 -4.81743327e-03  1.27359910e-01  1.31751455e-01\n",
      "  5.51227442e-04 -1.09210580e-02 -4.50270170e-02 -2.41745287e-03\n",
      " -1.41004258e-01  1.40750654e-02  1.64656896e+02  9.40706085e-02\n",
      " -5.90325087e-02 -3.83086313e-02 -3.19864841e+01  3.89729485e-04\n",
      "  4.15328366e-04 -3.15443468e+01  4.30584500e-04 -1.25895687e-03\n",
      " -5.18296552e-02 -4.66892903e-04  2.35009519e-02 -2.08787977e-02\n",
      "  2.37891726e-02 -3.25363119e-04 -9.43779134e-05  1.83000920e-02\n",
      " -7.79186730e-04  8.71593634e-04 -1.39486733e+02]\n"
     ]
    }
   ],
   "source": [
    "start_time = datetime.datetime.now()\n",
    "lambdas = np.linspace(0, 0.01, 100)\n",
    "wBest = []\n",
    "mseBest = 10000000\n",
    "for l in lambdas:\n",
    "    w, mse = ridge_regression(y, tx, l)\n",
    "    if mse < mseBest:\n",
    "        mseBest = mse\n",
    "        wBest = w\n",
    "    print(\"mse for \", l, \": \", mse)\n",
    "\n",
    "end_time = datetime.datetime.now()\n",
    "\n",
    "# Print result\n",
    "exection_time = (end_time - start_time).total_seconds()\n",
    "print(\"Ridge regression: execution time={t:.7f} seconds\".format(t=exection_time))\n",
    "print(\"optimal weights: \", wBest)"
   ]
  },
  {
   "cell_type": "code",
   "execution_count": null,
   "metadata": {
    "pycharm": {
     "name": "#%%\n"
    }
   },
   "outputs": [],
   "source": []
  }
 ],
 "metadata": {
  "kernelspec": {
   "display_name": "Python 3",
   "language": "python",
   "name": "python3"
  },
  "language_info": {
   "codemirror_mode": {
    "name": "ipython",
    "version": 3
   },
   "file_extension": ".py",
   "mimetype": "text/x-python",
   "name": "python",
   "nbconvert_exporter": "python",
   "pygments_lexer": "ipython3",
   "version": "3.8.5"
  }
 },
 "nbformat": 4,
 "nbformat_minor": 4
}