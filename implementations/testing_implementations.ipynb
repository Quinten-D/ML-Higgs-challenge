{
 "cells": [
  {
   "cell_type": "markdown",
   "metadata": {},
   "source": [
    "## Testing ML functions "
   ]
  },
  {
   "cell_type": "code",
   "execution_count": 26,
   "metadata": {},
   "outputs": [
    {
     "name": "stdout",
     "output_type": "stream",
     "text": [
      "The autoreload extension is already loaded. To reload it, use:\n",
      "  %reload_ext autoreload\n"
     ]
    }
   ],
   "source": [
    "# import functions and helpers\n",
    "from helper import *\n",
    "from implementations import *\n",
    "\n",
    "#import packages\n",
    "import numpy as np\n",
    "import matplotlib.pyplot as plt\n",
    "import pandas as pd\n",
    "import datetime\n",
    "\n",
    "%matplotlib inline\n",
    "%load_ext autoreload\n",
    "%autoreload 2"
   ]
  },
  {
   "cell_type": "code",
   "execution_count": 27,
   "metadata": {},
   "outputs": [],
   "source": [
    "# load data \n",
    "height, weight, gender = load_data(sub_sample=False, add_outlier=False)\n",
    "x, mean_x, std_x = standardize(height)\n",
    "y, tx = build_model_data(x, weight)"
   ]
  },
  {
   "cell_type": "code",
   "execution_count": 28,
   "metadata": {},
   "outputs": [],
   "source": [
    "# set up testing parameters\n",
    "max_iters = 100\n",
    "gamma = 0.8\n",
    "batch_size = 128\n",
    "lambda_ = 0.5\n",
    "w_initial = np.array([0, 0])"
   ]
  },
  {
   "cell_type": "markdown",
   "metadata": {},
   "source": [
    "## least_squares_GD"
   ]
  },
  {
   "cell_type": "code",
   "execution_count": 29,
   "metadata": {},
   "outputs": [
    {
     "name": "stdout",
     "output_type": "stream",
     "text": [
      "GD: execution time=0.0051910 seconds\n",
      "optimal weights:  [73.293922   13.47971243]\n",
      "mse:  15.385887868829395\n"
     ]
    }
   ],
   "source": [
    "start_time = datetime.datetime.now()\n",
    "w, mse = least_squares_GD(y, tx, w_initial, max_iters, gamma)\n",
    "end_time = datetime.datetime.now()\n",
    "\n",
    "# Print result\n",
    "exection_time = (end_time - start_time).total_seconds()\n",
    "print(\"GD: execution time={t:.7f} seconds\".format(t=exection_time))\n",
    "print(\"optimal weights: \", w)\n",
    "print(\"mse: \", mse)"
   ]
  },
  {
   "cell_type": "markdown",
   "metadata": {},
   "source": [
    "## least_squares_SGD"
   ]
  },
  {
   "cell_type": "code",
   "execution_count": 30,
   "metadata": {},
   "outputs": [
    {
     "name": "stdout",
     "output_type": "stream",
     "text": [
      "SGD: execution time=0.0180350 seconds\n",
      "optimal weights:  [73.05777354 13.19403438]\n",
      "mse:  15.454576892498007\n"
     ]
    }
   ],
   "source": [
    "start_time = datetime.datetime.now()\n",
    "w, mse = least_squares_SGD(y, tx, w_initial, max_iters, gamma, batch_size)\n",
    "end_time = datetime.datetime.now()\n",
    "\n",
    "# Print result\n",
    "exection_time = (end_time - start_time).total_seconds()\n",
    "print(\"SGD: execution time={t:.7f} seconds\".format(t=exection_time))\n",
    "print(\"optimal weights: \", w)\n",
    "print(\"mse: \", mse)"
   ]
  },
  {
   "cell_type": "markdown",
   "metadata": {},
   "source": [
    "## least_squares_closed_form"
   ]
  },
  {
   "cell_type": "code",
   "execution_count": 31,
   "metadata": {},
   "outputs": [
    {
     "name": "stdout",
     "output_type": "stream",
     "text": [
      "LS: execution time=0.0004040 seconds\n",
      "optimal weights:  [73.293922   13.47971243]\n",
      "mse:  15.3858878688294\n"
     ]
    }
   ],
   "source": [
    "start_time = datetime.datetime.now()\n",
    "w, mse = least_squares(y, tx)\n",
    "end_time = datetime.datetime.now()\n",
    "\n",
    "# Print result\n",
    "exection_time = (end_time - start_time).total_seconds()\n",
    "print(\"LS: execution time={t:.7f} seconds\".format(t=exection_time))\n",
    "print(\"optimal weights: \", w)\n",
    "print(\"mse: \", mse)"
   ]
  },
  {
   "cell_type": "markdown",
   "metadata": {},
   "source": [
    "## ridge_regression"
   ]
  },
  {
   "cell_type": "code",
   "execution_count": 33,
   "metadata": {},
   "outputs": [
    {
     "name": "stdout",
     "output_type": "stream",
     "text": [
      "Ridge regression: execution time=0.0000430 seconds\n",
      "optimal weights:  [73.293922   13.47971243]\n",
      "mse:  15.3858878688294\n"
     ]
    }
   ],
   "source": [
    "start_time = datetime.datetime.now()\n",
    "#w, mse = ridge_regression(y, tx, lambda_)\n",
    "end_time = datetime.datetime.now()\n",
    "\n",
    "# Print result\n",
    "exection_time = (end_time - start_time).total_seconds()\n",
    "print(\"Ridge regression: execution time={t:.7f} seconds\".format(t=exection_time))\n",
    "print(\"optimal weights: \", w)\n",
    "print(\"mse: \", mse)"
   ]
  },
  {
   "cell_type": "code",
   "execution_count": null,
   "metadata": {},
   "outputs": [],
   "source": []
  }
 ],
 "metadata": {
  "kernelspec": {
   "display_name": "Python 3",
   "language": "python",
   "name": "python3"
  },
  "language_info": {
   "codemirror_mode": {
    "name": "ipython",
    "version": 3
   },
   "file_extension": ".py",
   "mimetype": "text/x-python",
   "name": "python",
   "nbconvert_exporter": "python",
   "pygments_lexer": "ipython3",
   "version": "3.8.5"
  }
 },
 "nbformat": 4,
 "nbformat_minor": 4
}
